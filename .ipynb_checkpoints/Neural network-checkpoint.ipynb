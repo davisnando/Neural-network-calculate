{
 "cells": [
  {
   "cell_type": "markdown",
   "metadata": {},
   "source": [
    "De code hieronder maakt de matrix op basis van elke layer. Deze matrix is gevuld met alle weights. de functie calculate_matrix die berekent de output van de matrix door de matrix en de input mee te geven"
   ]
  },
  {
   "cell_type": "code",
   "execution_count": 1,
   "metadata": {},
   "outputs": [],
   "source": [
    "import json\n",
    "import numpy as np\n",
    "\n",
    "\n",
    "data = json.load(open(\"layer.json\", \"r\"))\n",
    "\n",
    "\n",
    "def set_matrix(layer):\n",
    "    # creating matrix for the layer\n",
    "    # set empty matrix\n",
    "    matrix = np.zeros((layer[\"size_out\"], layer[\"size_in\"]))\n",
    "    # fill matrix with given weights\n",
    "    for key, weights in layer[\"weights\"].items():\n",
    "        key = int(key)\n",
    "        for k, w in weights.items():\n",
    "            k = int(k)\n",
    "            w = float(w)\n",
    "            matrix[k - 1][key - 1] = w\n",
    "    return matrix\n",
    "\n",
    "\n",
    "def calculate_matrix(matrix, input):\n",
    "    output = []\n",
    "    # loop through every row of the matrix\n",
    "    for row in matrix:\n",
    "        # sum\n",
    "        s = 0\n",
    "        # save index of weight\n",
    "        index = 0\n",
    "        # loop through every matrix\n",
    "        for weight in row:\n",
    "            # add input * weight to sum\n",
    "            s += input[index] * weight\n",
    "            # increase index\n",
    "            index += 1\n",
    "        # add sum to output\n",
    "        output.append(s)\n",
    "    # return output\n",
    "    return output"
   ]
  },
  {
   "cell_type": "markdown",
   "metadata": {},
   "source": [
    "De code hieronder zorgt ervoor dat de netwerk ook daad werkelijk werkt."
   ]
  },
  {
   "cell_type": "code",
   "execution_count": 2,
   "metadata": {},
   "outputs": [],
   "source": [
    "\n",
    "\n",
    "# set default input\n",
    "i = np.array([1, 1, 1, 1, 1])\n",
    "# loop through every layer of the matrix\n",
    "for key, layer in data.items():\n",
    "    # create a matrix\n",
    "    matrix = set_matrix(layer)\n",
    "    # calculate matrix\n",
    "    i = calculate_matrix(matrix, i)\n"
   ]
  },
  {
   "cell_type": "code",
   "execution_count": 4,
   "metadata": {},
   "outputs": [
    {
     "name": "stdout",
     "output_type": "stream",
     "text": [
      "[0.6199999999999999, 0.36]\n"
     ]
    }
   ],
   "source": [
    "print(i)"
   ]
  },
  {
   "cell_type": "markdown",
   "metadata": {},
   "source": [
    "Print outcome"
   ]
  },
  {
   "cell_type": "code",
   "execution_count": null,
   "metadata": {},
   "outputs": [],
   "source": []
  }
 ],
 "metadata": {
  "kernelspec": {
   "display_name": "Python 3",
   "language": "python",
   "name": "python3"
  },
  "language_info": {
   "codemirror_mode": {
    "name": "ipython",
    "version": 3
   },
   "file_extension": ".py",
   "mimetype": "text/x-python",
   "name": "python",
   "nbconvert_exporter": "python",
   "pygments_lexer": "ipython3",
   "version": "3.7.3"
  }
 },
 "nbformat": 4,
 "nbformat_minor": 2
}
