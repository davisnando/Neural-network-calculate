{
 "cells": [
  {
   "cell_type": "markdown",
   "metadata": {},
   "source": [
    "Import json en haal de layer bestand op"
   ]
  },
  {
   "cell_type": "code",
   "execution_count": 1,
   "metadata": {},
   "outputs": [],
   "source": [
    "import json\n",
    "\n",
    "data = json.load(open(\"layer.json\", \"r\"))\n",
    "\n",
    "inputs = {}\n"
   ]
  },
  {
   "cell_type": "markdown",
   "metadata": {},
   "source": [
    "De loop hieronder gaat door alle layers van het json bestand heen en dan door elke gewicht. vervolgens pakt hij de key van de gewicht en kijkt hij of dat bestaat in de inputs dict zoniet zet hij dat op 1. Dan pakt hij de gewicht en doet hij dat keer de input met de key van het gewicht en voegt hij dat aan de sum toe. Wanneer de dot product(wat hij eigenlijk doet) is berekend zet hij de juiste inputs naar de total_sum"
   ]
  },
  {
   "cell_type": "code",
   "execution_count": 2,
   "metadata": {},
   "outputs": [],
   "source": [
    "for key, layer in data.items():\n",
    "    for key, weight in layer[\"weights\"].items():\n",
    "        total_sum = 0\n",
    "        for k, w in weight.items():\n",
    "            if k not in inputs:\n",
    "                inputs[k] = 1\n",
    "            total_sum += eval(w) * inputs[k]\n",
    "\n",
    "        inputs[key] = total_sum"
   ]
  },
  {
   "cell_type": "markdown",
   "metadata": {},
   "source": [
    "Print inputs"
   ]
  },
  {
   "cell_type": "code",
   "execution_count": 3,
   "metadata": {},
   "outputs": [
    {
     "name": "stdout",
     "output_type": "stream",
     "text": [
      "{'1': 0.532, '2': -0.22360000000000008, '4': 0.45644000000000007, '3': -0.12028000000000003, '5': -1.1435800000000003}\n"
     ]
    }
   ],
   "source": [
    "print(inputs)"
   ]
  },
  {
   "cell_type": "code",
   "execution_count": null,
   "metadata": {},
   "outputs": [],
   "source": []
  }
 ],
 "metadata": {
  "kernelspec": {
   "display_name": "Python 3",
   "language": "python",
   "name": "python3"
  },
  "language_info": {
   "codemirror_mode": {
    "name": "ipython",
    "version": 3
   },
   "file_extension": ".py",
   "mimetype": "text/x-python",
   "name": "python",
   "nbconvert_exporter": "python",
   "pygments_lexer": "ipython3",
   "version": "3.7.3"
  }
 },
 "nbformat": 4,
 "nbformat_minor": 2
}
